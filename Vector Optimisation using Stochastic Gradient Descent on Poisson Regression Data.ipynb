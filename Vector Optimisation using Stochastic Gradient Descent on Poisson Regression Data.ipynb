{
 "cells": [
  {
   "cell_type": "markdown",
   "id": "2d216304",
   "metadata": {},
   "source": [
    "# Deep Learning HW 1"
   ]
  },
  {
   "cell_type": "code",
   "execution_count": 7,
   "id": "f40d9f0f",
   "metadata": {},
   "outputs": [],
   "source": [
    "import numpy as np\n",
    "import tensorflow as tf\n",
    "import pandas as pd\n",
    "\n",
    "data = pd.read_csv(r\"C:\\Users\\Aditya Gaitonde\\Downloads\\poisson_regression_data-1 (1).csv\")\n",
    "x = data.iloc[:, 1:].values\n",
    "y = data.iloc[:, 0].values\n",
    "\n",
    "y_true = y.reshape(-1, 1)\n",
    "ones = np.ones((x.shape[0], 1))\n",
    "X = np.concatenate([ones, x], axis=1)\n",
    "\n",
    "tf.random.set_seed(100)\n",
    "W = tf.Variable(tf.random.normal([6, 1]))\n",
    "\n",
    "epochs = 5000\n",
    "rate = 0.01\n",
    "\n",
    "X = tf.cast(X, dtype=tf.float32)\n",
    "y_true = tf.cast(y_true, dtype=tf.float32)\n",
    "\n",
    "def poisson_loss(y_true, y_pred):\n",
    "    return tf.reduce_mean(y_pred - y_true * tf.math.log(y_pred))\n",
    "\n",
    "optimizer = tf.optimizers.SGD(rate)\n",
    "for i in range(epochs):\n",
    "    with tf.GradientTape() as tape:\n",
    "        y_pred = tf.exp(tf.matmul(X, W))\n",
    "        loss = poisson_loss(y_true, y_pred)\n",
    "    grads = tape.gradient(loss, W)\n",
    "    optimizer.apply_gradients(zip([grads], [W]))\n"
   ]
  },
  {
   "cell_type": "markdown",
   "id": "80332686",
   "metadata": {},
   "source": [
    "Weights are calculated to be as follows"
   ]
  },
  {
   "cell_type": "code",
   "execution_count": 8,
   "id": "56d731f4",
   "metadata": {},
   "outputs": [
    {
     "data": {
      "text/plain": [
       "<tf.Variable 'Variable:0' shape=(6, 1) dtype=float32, numpy=\n",
       "array([[ 0.09911128],\n",
       "       [ 2.4752378 ],\n",
       "       [-1.0484594 ],\n",
       "       [ 0.78901625],\n",
       "       [-0.495598  ],\n",
       "       [ 0.3207619 ]], dtype=float32)>"
      ]
     },
     "execution_count": 8,
     "metadata": {},
     "output_type": "execute_result"
    }
   ],
   "source": [
    "W"
   ]
  }
 ],
 "metadata": {
  "kernelspec": {
   "display_name": "Python 3",
   "language": "python",
   "name": "python3"
  },
  "language_info": {
   "codemirror_mode": {
    "name": "ipython",
    "version": 3
   },
   "file_extension": ".py",
   "mimetype": "text/x-python",
   "name": "python",
   "nbconvert_exporter": "python",
   "pygments_lexer": "ipython3",
   "version": "3.8.10"
  }
 },
 "nbformat": 4,
 "nbformat_minor": 5
}
